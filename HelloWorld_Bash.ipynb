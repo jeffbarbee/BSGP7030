{
 "cells": [
  {
   "cell_type": "code",
   "execution_count": null,
   "id": "4d4f4c54-2fb8-40e4-a06b-632b352b6778",
   "metadata": {},
   "outputs": [],
   "source": [
    "#!/bin/bash\n",
    "echo \"Hello, World!\""
   ]
  }
 ],
 "metadata": {
  "kernelspec": {
   "display_name": "Python (7030_class_1)",
   "language": "python",
   "name": "7030_class_1"
  },
  "language_info": {
   "codemirror_mode": {
    "name": "ipython",
    "version": 3
   },
   "file_extension": ".py",
   "mimetype": "text/x-python",
   "name": "python",
   "nbconvert_exporter": "python",
   "pygments_lexer": "ipython3",
   "version": "3.10.18"
  }
 },
 "nbformat": 4,
 "nbformat_minor": 5
}
