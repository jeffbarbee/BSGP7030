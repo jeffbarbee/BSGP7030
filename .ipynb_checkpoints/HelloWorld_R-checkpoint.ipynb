{
 "cells": [
  {
   "cell_type": "code",
   "execution_count": null,
   "id": "0ff68789-6226-4fbb-965f-7e348271925b",
   "metadata": {},
   "outputs": [],
   "source": [
    "#!/usr/bin/env Rscript\n",
    "cat(\"Hello, World!\\n\")"
   ]
  }
 ],
 "metadata": {
  "kernelspec": {
   "display_name": "R (7030_class_1)",
   "language": "R",
   "name": "ir_7030_class_1"
  },
  "language_info": {
   "codemirror_mode": "r",
   "file_extension": ".r",
   "mimetype": "text/x-r-source",
   "name": "R",
   "pygments_lexer": "r",
   "version": "4.4.3"
  }
 },
 "nbformat": 4,
 "nbformat_minor": 5
}
